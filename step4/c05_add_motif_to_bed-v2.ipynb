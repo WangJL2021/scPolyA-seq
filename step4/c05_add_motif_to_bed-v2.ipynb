{
 "cells": [
  {
   "cell_type": "code",
   "execution_count": 1,
   "metadata": {},
   "outputs": [
    {
     "name": "stdout",
     "output_type": "stream",
     "text": [
      "==end==\n"
     ]
    }
   ],
   "source": [
    "import numpy as np\n",
    "import pandas as pd\n",
    "\n",
    "import matplotlib.pyplot as plt  \n",
    "import seaborn as sns\n",
    "print('==end==')"
   ]
  },
  {
   "cell_type": "code",
   "execution_count": 4,
   "metadata": {},
   "outputs": [
    {
     "data": {
      "text/plain": [
       "'AATAAA'"
      ]
     },
     "execution_count": 4,
     "metadata": {},
     "output_type": "execute_result"
    }
   ],
   "source": [
    "re.sub('U', 'T', \"AAUAAA\")"
   ]
  },
  {
   "cell_type": "code",
   "execution_count": 22,
   "metadata": {},
   "outputs": [
    {
     "data": {
      "text/plain": [
       "['AAUAAA', 19]"
      ]
     },
     "execution_count": 22,
     "metadata": {},
     "output_type": "execute_result"
    }
   ],
   "source": [
    "# tool: get motif and site form string;\n",
    "import re\n",
    "\n",
    "def getMotif(s1):\n",
    "    #motifs=['AATAAA', 'ATTAAA','TATAAA','AGTAAA','AATACA','CATAAA','AATATA','GATAAA',]\n",
    "    motifs=[\"AAUAAA\", \"AUUAAA\", \"AAACAU\", \"AAUAAC\", \"UUAAAG\", \"UUAAAU\", \"UAUAAA\", \"AAUACA\", \n",
    "            \"CAUAAA\", \"AAUAUA\", \"GAUAAA\", \"AAUGAA\", \"AAGAAA\", \"ACUAAA\", \"AAUAGA\", \"AAUAAU\", \n",
    "            \"AACAAA\", \"AUUACA\", \"AUUAUA\", \"AACAAG\", \"AAUAAG\", \"AGUAAA\"]\n",
    "    \n",
    "    for motif0 in motifs:\n",
    "        motif=re.sub('U', 'T', motif0)\n",
    "        rs=re.search(motif,s1.upper())\n",
    "        if rs!=None:\n",
    "            start=rs.span()[0];\n",
    "            return([motif0, len(s1)-start])\n",
    "    return(None)\n",
    "\n",
    "s2='CAGGCTCGTTTTACCTCATTCTAGAATATTTAAGAATCTAAAAATAAAGGGCAACTCTGAC'\n",
    "getMotif(s2)"
   ]
  },
  {
   "cell_type": "code",
   "execution_count": 23,
   "metadata": {},
   "outputs": [
    {
     "data": {
      "text/plain": [
       "['AAUAAA', 59]"
      ]
     },
     "execution_count": 23,
     "metadata": {},
     "output_type": "execute_result"
    }
   ],
   "source": [
    "getMotif('gtaataaaaaattaaattttGTTAACATTATGGCTATGTTTTTCCTTGCTTTTAGTTATAC')"
   ]
  },
  {
   "cell_type": "code",
   "execution_count": 24,
   "metadata": {},
   "outputs": [
    {
     "data": {
      "text/plain": [
       "<re.Match object; span=(9, 14), match='GCAAG'>"
      ]
     },
     "execution_count": 24,
     "metadata": {},
     "output_type": "execute_result"
    }
   ],
   "source": [
    "s2='gagaaagaaGCAAGAAGAGCAGGCCAAACGTCAGCAAGAAGAAGAAGCAGCTGCTCAGATG'\n",
    "getMotif(s2)\n",
    "re.search('GCAA[T|G]',s2.upper())"
   ]
  },
  {
   "cell_type": "code",
   "execution_count": 25,
   "metadata": {},
   "outputs": [
    {
     "name": "stdout",
     "output_type": "stream",
     "text": [
      "==end==, i= 20224\n"
     ]
    }
   ],
   "source": [
    "#add motif to bed file\n",
    "\n",
    "import re;\n",
    "\n",
    "fastFile=\"/home/wangjl/data/apa/191111Figure/f2/validation/pas_bed/60_all.fa\" #20222\n",
    "bedFile=\"/data/jinwf/wangjl/apa/190705PAS/bed/pasPostions_Location_transcriptName-noChrM_noInnerPrime_PY-filterCountCell.bed\" #20223\n",
    "\n",
    "#\n",
    "fr_fa=open(fastFile, 'r')\n",
    "fr_bed=open(bedFile, 'r')\n",
    "\n",
    "outBed=\"/data/jinwf/wangjl/apa/190705PAS/bed/pasPostions_Location_transcriptName-noChrM_noInnerPrime_PY-filterCountCell-motif2.bed\"\n",
    "fw=open(outBed, 'w');\n",
    "\n",
    "i=0;\n",
    "while True:\n",
    "    i+=1;\n",
    "    # no header \n",
    "    if i==1:\n",
    "        line_bed=fr_bed.readline()\n",
    "        continue;\n",
    "    \n",
    "    # debug\n",
    "    if i>10:\n",
    "        #break;\n",
    "        pass;\n",
    "    \n",
    "    # begin\n",
    "    line_bed=fr_bed.readline().strip()\n",
    "    line_fa=fr_fa.readline().strip()\n",
    "    \n",
    "    #end of file;\n",
    "    if not line_bed:\n",
    "        break;\n",
    "    \n",
    "    #\n",
    "    arr=re.split('\\s', line_bed)\n",
    "    #['chr10:320403:-', 'chr10', '320403', '320403', 'chr10:320403:-', '10945', '-', 'UTR3', 'DIP2C-201', 'TGAAAATAGCAGTTTCTTAAT', '0']\n",
    "    #          0            1       2         3           4               5       6     7       8             9                     10\n",
    "    \n",
    "    #\n",
    "    arr2=[arr[0],arr[1],arr[2],arr[6],arr[5],arr[7],arr[8],arr[9]]\n",
    "    #add gene\n",
    "    gene=re.split('-', arr[8])[0]\n",
    "    arr2.append(gene);\n",
    "    #add up 60 nt;\n",
    "    arr2.append(line_fa)\n",
    "    arr2.append(\".\") #motif\n",
    "    arr2.append(\".\") #distance\n",
    "    \n",
    "    rs=getMotif(line_fa)\n",
    "    if rs!=None:\n",
    "        arr2[-2]=rs[0]\n",
    "        arr2[-1]=str( rs[1] )\n",
    "    #print(i, arr2) \n",
    "    #['chr10:320403:-', 'chr10', '320403', '-', '10945', 'UTR3', 'DIP2C-201', 'TGAAAATAGCAGTTTCTTAAT', 'DIP2C', 'TCTGTGATAACGCCTGTTTTATATTCAAATGAACAAATAAAAGCTTTTATTTTTGTTGCTC']\n",
    "    \n",
    "    fw.write('\\t'.join(arr2)+\"\\n\");\n",
    "\n",
    "fr_fa.close();\n",
    "fr_bed.close();\n",
    "fw.close();\n",
    "print('==end==, i=',i);"
   ]
  },
  {
   "cell_type": "markdown",
   "metadata": {},
   "source": [
    "# Go to R, plot"
   ]
  }
 ],
 "metadata": {
  "kernelspec": {
   "display_name": "Python 3",
   "language": "python",
   "name": "python3"
  },
  "language_info": {
   "codemirror_mode": {
    "name": "ipython",
    "version": 3
   },
   "file_extension": ".py",
   "mimetype": "text/x-python",
   "name": "python",
   "nbconvert_exporter": "python",
   "pygments_lexer": "ipython3",
   "version": "3.7.3"
  },
  "toc": {
   "base_numbering": 1,
   "nav_menu": {},
   "number_sections": true,
   "sideBar": true,
   "skip_h1_title": false,
   "title_cell": "Table of Contents",
   "title_sidebar": "Contents",
   "toc_cell": false,
   "toc_position": {},
   "toc_section_display": true,
   "toc_window_display": false
  }
 },
 "nbformat": 4,
 "nbformat_minor": 2
}
