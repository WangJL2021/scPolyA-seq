{
 "cells": [
  {
   "cell_type": "code",
   "execution_count": 12,
   "metadata": {},
   "outputs": [
    {
     "data": {
      "text/plain": [
       "'/data/jinwf/wangjl/apa/190705PAS'"
      ]
     },
     "execution_count": 12,
     "metadata": {},
     "output_type": "execute_result"
    }
   ],
   "source": [
    "#v2.0 batch mode\n",
    "\n",
    "#chdir\n",
    "import os,re,time\n",
    "os.chdir(\"/home/wangjl/data/apa/190705PAS/\")\n",
    "os.getcwd()"
   ]
  },
  {
   "cell_type": "code",
   "execution_count": 9,
   "metadata": {},
   "outputs": [
    {
     "name": "stdout",
     "output_type": "stream",
     "text": [
      "82 ['c12_ROW02', 'c12_ROW04', 'c12_ROW07', 'c12_ROW11', 'c12_ROW20', 'c12_ROW24', 'c12_ROW25', 'c12_ROW31', 'c12_ROW33', 'c12_ROW34', 'c12_ROW35', 'c12_ROW36', 'c12_ROW38', 'c13_ROW06', 'c13_ROW09', 'c13_ROW15', 'c13_ROW26', 'c13_ROW29', 'c13_ROW32', 'c13_ROW34', 'c13_ROW36', 'c14_ROW05', 'c14_ROW07', 'c14_ROW08', 'c14_ROW09', 'c14_ROW15', 'c14_ROW16', 'c14_ROW18', 'c14_ROW19', 'c14_ROW22', 'c14_ROW23', 'c14_ROW24', 'c14_ROW25', 'c14_ROW26', 'c14_ROW28', 'c14_ROW29', 'c14_ROW30', 'c14_ROW37', 'c14_ROW39', 'c15_ROW06', 'c15_ROW12', 'c15_ROW13', 'c15_ROW16', 'c15_ROW18', 'c15_ROW19', 'c15_ROW26', 'c15_ROW28', 'c15_ROW31', 'c15_ROW33', 'c15_ROW34', 'c15_ROW35', 'c15_ROW38', 'c16_ROW02', 'c16_ROW03', 'c16_ROW05', 'c16_ROW08', 'c16_ROW09', 'c16_ROW11', 'c16_ROW12', 'c16_ROW14', 'c16_ROW23', 'c16_ROW24', 'c16_ROW25', 'c16_ROW28', 'c16_ROW31', 'c16_ROW34', 'c16_ROW37', 'c16_ROW38', 'c19_ROW04', 'c19_ROW07', 'c19_ROW09', 'c19_ROW10', 'c19_ROW13', 'c19_ROW15', 'c19_ROW17', 'c19_ROW18', 'c19_ROW23', 'c19_ROW26', 'c19_ROW33', 'c19_ROW35', 'c19_ROW37', 'c19_ROW38']\n"
     ]
    }
   ],
   "source": [
    "# no use this box\n",
    "#read cell-IDs from file \n",
    "\n",
    "cidFile=['/home/wangjl/data/apa/190530Mix/cluster2_syncHeLa.27L.cellID', #12+15个细胞是同步化的hela，来自于left\n",
    "'/home/wangjl/data/apa/190530Mix/cluster2_HeLa_nonsyncHeLa.29R.cellID', #29个非同步化的Hela，来自于right\n",
    "\n",
    "'/home/wangjl/data/apa/190530Mix/cluster0_BC.87.cellID', #c0和c1为hela，都来自于right\n",
    "'/home/wangjl/data/apa/190530Mix/cluster1_BC.82.cellID']\n",
    "\n",
    "def getIDfromFIle(cidFile):\n",
    "    fr=open(cidFile,\"r\")\n",
    "    cids=[]\n",
    "    for lineR in fr.readlines():\n",
    "        line=lineR.strip()\n",
    "        cids.append(line)\n",
    "\n",
    "    fr.close()\n",
    "    return cids;\n",
    "\n",
    "cids=getIDfromFIle(cidFile[3])\n",
    "print(len(cids),cids)"
   ]
  },
  {
   "cell_type": "code",
   "execution_count": 16,
   "metadata": {
    "scrolled": true
   },
   "outputs": [
    {
     "name": "stdout",
     "output_type": "stream",
     "text": [
      "===Cut-start=== c01_ROW24\n",
      "===Cut-end=== c01_ROW24\n"
     ]
    }
   ],
   "source": [
    "#{cut polyA} input cell id, keep reads with 10A\n",
    "def getPolyAReadCutA(cid,fromDir=\"bc\"):\n",
    "    basePath=\"/home/wangjl/data/apa/fq_files/\"+fromDir+\"/\"\n",
    "    cellPath=basePath+cid+\"_R2.fastq\"\n",
    "    #print(cellPath) # /home/wangjl/data/apa/fq_files/bc/c12_ROW03_R2.fastq\n",
    "\n",
    "    # read file\n",
    "    fr=open(cellPath,\"r\")\n",
    "    # write to files: 3, 10A /end 6A /other\n",
    "    fw10A=open(\"/home/wangjl/data/apa/190705PAS/polyA_fq/CutA_\"+cid+\".10A.fq\", 'w')\n",
    "    #fwTail6A=open(\"/home/wangjl/data/apa/190610APA/polyA_fq/CutA_\"+cid+\".Tail6A.fq\", 'w')\n",
    "    fwOther=open(\"/home/wangjl/data/apa/190705PAS/polyA_fq/CutA_\"+cid+\".Other.fq\", 'w')\n",
    "\n",
    "    i=0\n",
    "    fastq=[] #fq file 4 row\n",
    "    tag=\"\" #tag for each 4 row\n",
    "    start=time.time()\n",
    "    all_lines=fr.readlines()\n",
    "    for lineR in all_lines:\n",
    "        i+=1\n",
    "        #if i>100:\n",
    "        #    print(\"=============debug model break here;\");break; #for test\n",
    "        #\n",
    "        #if i% round(len(all_lines)/10)==0:\n",
    "        #    print(i, time.time()-start,\"seconds elapsed.\")\n",
    "\n",
    "        #\n",
    "        line=lineR.strip()\n",
    "        fastq.append(lineR)\n",
    "\n",
    "        #give tag by 2nd row\n",
    "        if i%4==2:\n",
    "            #print(i,\":\",line)\n",
    "            haveA10=re.search(\"A{10,}\",line)\n",
    "            haveA6=re.search(\"A{6,}$\",line)\n",
    "            #\n",
    "            if haveA10:\n",
    "                tag=\"10A\"\n",
    "            elif haveA6:\n",
    "                tag=\"Tail6A\"\n",
    "            else:\n",
    "                tag=\"Other\"\n",
    "\n",
    "        # at row 4, output by tag\n",
    "        if i%4==0:\n",
    "            #print(i/4,\":\",tag,\":\",fastq[1].strip())\n",
    "            # save to mem by tag at row 1,3\n",
    "            if tag==\"10A\" and (haveA10.span()[0]>10):\n",
    "                #print(haveA10.span()[0],\"\\n\")\n",
    "                fastq[1]=fastq[1].strip()[0: haveA10.span()[0] ]+\"\\n\"\n",
    "                fastq[3]=fastq[3].strip()[0: haveA10.span()[0] ]+\"\\n\"\n",
    "                for item in fastq:\n",
    "                    fw10A.write(item)\n",
    "            elif tag==\"Tail6A\" and (haveA6.span()[0]>10):\n",
    "                #print(haveA6.span()[0],\"\\n\")\n",
    "                fastq[1]=fastq[1].strip()[0: haveA6.span()[0] ]+\"\\n\"\n",
    "                fastq[3]=fastq[3].strip()[0: haveA6.span()[0] ]+\"\\n\"\n",
    "                for item in fastq:\n",
    "                    #fwTail6A.write(item)\n",
    "                    fw10A.write(item)\n",
    "            else:\n",
    "                # too short, or no 10A or 6A\n",
    "                for item in fastq:\n",
    "                    fwOther.write(item)\n",
    "\n",
    "             #clen\n",
    "            fastq=[]\n",
    "            \n",
    "    #close fiels.\n",
    "    fr.close()\n",
    "    fw10A.close()\n",
    "    #fwTail6A.close()\n",
    "    fwOther.close()\n",
    "    return 0;\n",
    "\n",
    "# cut off polyA\n",
    "cid=\"c01_ROW24\"\n",
    "#for cid in cids:\n",
    "print('===Cut-start===', cid)\n",
    "getPolyAReadCutA(cid,\"mef\")\n",
    "print(\"===Cut-end===\",cid)"
   ]
  },
  {
   "cell_type": "code",
   "execution_count": 17,
   "metadata": {
    "scrolled": true
   },
   "outputs": [
    {
     "name": "stdout",
     "output_type": "stream",
     "text": [
      "==========>Begin of main process[439947][child pid by parent ppid]\n",
      "5 items processed in 87.45579409599304 seconds\n",
      "10 items processed in 100.83897280693054 seconds\n",
      "15 items processed in 111.21550917625427 seconds\n",
      "20 items processed in 122.79621720314026 seconds\n",
      "25 items processed in 153.1750123500824 seconds\n",
      "217.95235681533813s <==========End of main process[439947]\n",
      "######################################## \n",
      "Log file: /data/jinwf/wangjl/apa/190705PAS/cutA-logs.txt20190712-035309\n"
     ]
    }
   ],
   "source": [
    "# parallel\n",
    "################################\n",
    "#part 3 parallel\n",
    "################################\n",
    "import time,multiprocessing,os,re #random\n",
    "from multiprocessing import Queue\n",
    "from multiprocessing import Process\n",
    "\n",
    "#=====================\n",
    "#settings\n",
    "#id_list=\"Right.cellID\"\n",
    "id_list=\"/home/wangjl/data/apa/190530Mix/cluster2_syncHeLa.27L.cellID\"\n",
    "# input file name of id list, one id a row. Used in doLinuxCMD()\n",
    "# default below\n",
    "core=20 # CPU core number\n",
    "hint_n=5 # default hint number\n",
    "log_file_name='cutA-logs.txt' #uniq-count-FROM-star.final.207.log\n",
    "# log file names. contents: #id status(0 normal, other error) \n",
    "#=====================\n",
    "## add time stamp to log file name, in case overwrite.\n",
    "timsString=time.strftime(\"%Y%m%d-%H%M%S\", time.localtime()) \n",
    "log_file_name=log_file_name + timsString\n",
    "\n",
    "\n",
    "# read and process, parallelly\n",
    "def worker(cb):\n",
    "    #time consuming process\n",
    "    #rs=cb+\"\\t\"+str( getPolyAReadCutA(cb) ) #defined in part2\n",
    "    rs=cb+\"\\t\"+str( getPolyAReadCutA(cb,'mef') )  # input cell id and dir/\n",
    "    q.put(rs)   #output to queue\n",
    "\n",
    "# save thread, only one\n",
    "def writer(log_file_name,ID_total,hint_n=20):\n",
    "    breaks=int(ID_total/hint_n) \n",
    "    i=0\n",
    "    with open(log_file_name, 'w') as f:\n",
    "        while True:\n",
    "            i+=1\n",
    "            if i%breaks==0:\n",
    "                print(i,\" items processed in \", time.time()-start,\" seconds\",sep=\"\")\n",
    "            rs=q.get() #waite while q is empty\n",
    "            f.write(rs+\"\\n\")\n",
    "            f.flush()\n",
    "\n",
    "\n",
    "#start time\n",
    "start=time.time()\n",
    "print('='*10, \">Begin of main process[\", os.getpid(), \"][child pid by parent ppid]\", sep=\"\")\n",
    "\n",
    "# main thread\n",
    "if __name__ == '__main__': \n",
    "    q=Queue(core+10)\n",
    "    pool = multiprocessing.Pool(processes = core)\n",
    "\n",
    "    # commit task to pool, and worker() parallel\n",
    "    fr=open(id_list,'r')# read id_list\n",
    "    i=0\n",
    "    for lineR in fr.readlines():\n",
    "        i+=1\n",
    "        #if i>100:\n",
    "        #    pass;\n",
    "            #break;\n",
    "\n",
    "        line=lineR.strip()\n",
    "        arr=re.split(' ',line)\n",
    "        pool.apply_async( worker,args=(arr[0],) )\n",
    "    fr.close() #\n",
    "\n",
    "    # write thread from queue\n",
    "    pOut = Process(target=writer, args=(log_file_name,i,hint_n,))\n",
    "    pOut.start()\n",
    "\n",
    "    # waite for end of worker()\n",
    "    pool.close()\n",
    "    pool.join()\n",
    "\n",
    "    while not q.empty():\n",
    "        time.sleep(1)#check queue every second\n",
    "    pOut.terminate();\n",
    "\n",
    "print(time.time()-start,'s <', '='*10, \"End of main process[\", os.getpid(),']', sep=\"\")\n",
    "print(\"#\"*40,\"\\nLog file: \"+ os.getcwd()+\"/\"+log_file_name)"
   ]
  }
 ],
 "metadata": {
  "kernelspec": {
   "display_name": "Python 3",
   "language": "python",
   "name": "python3"
  },
  "language_info": {
   "codemirror_mode": {
    "name": "ipython",
    "version": 3
   },
   "file_extension": ".py",
   "mimetype": "text/x-python",
   "name": "python",
   "nbconvert_exporter": "python",
   "pygments_lexer": "ipython3",
   "version": "3.7.3"
  },
  "toc": {
   "base_numbering": 1,
   "nav_menu": {},
   "number_sections": true,
   "sideBar": true,
   "skip_h1_title": false,
   "title_cell": "Table of Contents",
   "title_sidebar": "Contents",
   "toc_cell": false,
   "toc_position": {},
   "toc_section_display": true,
   "toc_window_display": false
  }
 },
 "nbformat": 4,
 "nbformat_minor": 2
}
