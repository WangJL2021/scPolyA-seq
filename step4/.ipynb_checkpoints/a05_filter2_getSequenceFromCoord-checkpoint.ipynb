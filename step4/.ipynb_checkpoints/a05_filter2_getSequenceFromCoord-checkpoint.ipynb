{
 "cells": [
  {
   "cell_type": "code",
   "execution_count": 116,
   "metadata": {},
   "outputs": [
    {
     "data": {
      "text/plain": [
       "'/data/jinwf/wangjl/apa/190705PAS/bed'"
      ]
     },
     "execution_count": 116,
     "metadata": {},
     "output_type": "execute_result"
    }
   ],
   "source": [
    "################################\n",
    "#part 1 working dir\n",
    "################################\n",
    "import os\n",
    "os.chdir('/data/jinwf/wangjl/apa/190705PAS/bed/')\n",
    "os.getcwd()"
   ]
  },
  {
   "cell_type": "code",
   "execution_count": 125,
   "metadata": {},
   "outputs": [],
   "source": [
    "#step1 get bed file\n",
    "# get XX nt sequence up and down, and find motif\n",
    "import re,time\n",
    "basePath=\"/data/jinwf/wangjl/apa/190705PAS/bed/\"\n",
    "\n",
    "def getBed(cid, up=0, down=0, debug=False):\n",
    "    #\n",
    "    #fr=open(basePath+'pas_bed/'+cid+\".gt5.freq\",\"r\")\n",
    "    fr=open(basePath+'pasPostions_siteAndIncludes_PY.bed',\"r\")\n",
    "    #$ head c12_ROW03.gt5.freq\n",
    "    #chr10\t855482\t855556\tchr10:855482:-\t36\t-\n",
    "    #chr10\t157706\t157706\tchr10:157706:-\t5\t-\n",
    "    fw=open(basePath+'pas_bed/'+cid+\".up\"+str(up)+'_down'+str(down)+\".bed\", 'w')\n",
    "    #error rows\n",
    "    fwE=open(basePath+'pas_bed/'+cid+\".up\"+str(up)+'_down'+str(down)+\"_E.bed\", 'w')\n",
    "    #\n",
    "    begin=time.time()\n",
    "    lines=fr.readlines()\n",
    "    i=0\n",
    "    new_i=0\n",
    "    for lineR in lines:\n",
    "        i+=1\n",
    "        line=lineR.strip()\n",
    "        if debug and i>10:\n",
    "            print(\"debug mode.\");break;\n",
    "        # progress bar\n",
    "        if i% round(len(lines)/10)==0:\n",
    "            print(i, round(time.time()-begin,2),\"seconds elapsed.\")\n",
    "        #chr|strand as key\n",
    "        arr=re.split(\"\\t\",line)\n",
    "        #if arr[5]==\"+\": # to get strand specific seq\n",
    "        #    continue;\n",
    "        if arr[5]==\"+\":\n",
    "            pos=int(arr[2])\n",
    "            start=pos-up+1;\n",
    "            end=pos+down+1;\n",
    "        else:\n",
    "            pos=int(arr[1])\n",
    "            start=pos-down;\n",
    "            end=pos+up\n",
    "        ##fix\n",
    "        if start<=0:\n",
    "            print(line);\n",
    "            fwE.write(lineR);\n",
    "            continue;\n",
    "        ##\n",
    "        arr[1]=str(start);\n",
    "        arr[2]=str(end);\n",
    "        bedStr='\\t'.join(arr)\n",
    "        #print( arr, bedStr ) \n",
    "        #['chr10', '855480', '855482', 'chr10:855482:-', '36', '-'] chr10\t855480\t855482\tchr10:855482:-\t36\t-\n",
    "        \n",
    "        #freq=int(arr[4])  fw.write(  ( bedStr +'\\n')*freq ) #\n",
    "        fw.write( bedStr +'\\n' ) #no consider freq, only uniq PAS\n",
    "    #\n",
    "    fr.close()\n",
    "    fw.close()\n",
    "    fwE.close();\n",
    "    print(\"==end==\",cid, i)\n",
    "    \n",
    "#test\n",
    "#cid=\"all\"\n",
    "#getBed(cid, 100, 100) #0.1s\n",
    "#getBed(cid, 0, 2,True) #0.1s"
   ]
  },
  {
   "cell_type": "code",
   "execution_count": null,
   "metadata": {},
   "outputs": [],
   "source": []
  },
  {
   "cell_type": "markdown",
   "metadata": {},
   "source": [
    "# Task1.1: check if downstream 4nt is non-genomic A"
   ]
  },
  {
   "cell_type": "code",
   "execution_count": 123,
   "metadata": {},
   "outputs": [
    {
     "data": {
      "text/plain": [
       "'/data/jinwf/wangjl/apa/190705PAS/bed'"
      ]
     },
     "execution_count": 123,
     "metadata": {},
     "output_type": "execute_result"
    }
   ],
   "source": [
    "os.getcwd()"
   ]
  },
  {
   "cell_type": "code",
   "execution_count": 126,
   "metadata": {},
   "outputs": [
    {
     "name": "stdout",
     "output_type": "stream",
     "text": [
      "all 0 4\n",
      "74229 0.29 seconds elapsed.\n",
      "148458 0.47 seconds elapsed.\n",
      "222687 0.66 seconds elapsed.\n",
      "296916 0.85 seconds elapsed.\n",
      "371145 1.03 seconds elapsed.\n",
      "445374 1.22 seconds elapsed.\n",
      "519603 1.4 seconds elapsed.\n",
      "593832 1.59 seconds elapsed.\n",
      "668061 1.77 seconds elapsed.\n",
      "chrM\t0\t0\tchrM:0:-\t288\t-\n",
      "==end== all 742288\n"
     ]
    }
   ],
   "source": [
    "# task1.1:\n",
    "#1. to bed file, down 2 or 5nt and 2 files, to get corect files\n",
    "cid=\"all\"\n",
    "up=0;\n",
    "down=4\n",
    "print(cid,up, down)\n",
    "getBed(cid, up, down) #0.1s"
   ]
  },
  {
   "cell_type": "code",
   "execution_count": 112,
   "metadata": {},
   "outputs": [
    {
     "name": "stdout",
     "output_type": "stream",
     "text": [
      "all 0 4\n",
      "bedtools getfasta -fi /home/wangjl/data/ref/hg19/hg19.fa -bed /home/wangjl/data/apa/190610APA/bed/M/bed//pas_bed/all.up0_down4.bed -s -fo /home/wangjl/data/apa/190610APA/bed/M/bed//pas_bed/all.4.fasta\n",
      "grep -v \">\" /home/wangjl/data/apa/190610APA/bed/M/bed//pas_bed/all.4.fasta > /home/wangjl/data/apa/190610APA/bed/M/bed//pas_bed/all.4.fa\n",
      "0 \n",
      "0 \n"
     ]
    },
    {
     "data": {
      "text/plain": [
       "'2019-08-13 02:32:58'"
      ]
     },
     "execution_count": 112,
     "metadata": {},
     "output_type": "execute_result"
    }
   ],
   "source": [
    "# task1.1:\n",
    "#2. get seq from bed\n",
    "# version 2.0\n",
    "import subprocess\n",
    "fastaPath=basePath+\"/pas_bed/\"\n",
    "nlen=str( up+down )\n",
    "print(cid,up, down)\n",
    "cmd1=\"bedtools getfasta -fi /home/wangjl/data/ref/hg19/hg19.fa -bed \"+fastaPath+cid+ \\\n",
    "    \".up\"+str(up)+\"_down\"+str(down)+\".bed -s -fo \"+fastaPath+cid+\".\"+nlen+\".fasta\"\n",
    "cmd2='grep -v \">\" '+fastaPath+cid+'.'+nlen+'.fasta > '+fastaPath+cid+'.'+nlen+'.fa'\n",
    "print(cmd1)\n",
    "print(cmd2)\n",
    "\n",
    "(status1, output1)=subprocess.getstatusoutput(cmd1)\n",
    "(status2, output2)=subprocess.getstatusoutput(cmd2)\n",
    "\n",
    "print(status1, output1)\n",
    "print(status2, output2)\n",
    "\n",
    "import time\n",
    "time.strftime(\"%Y-%m-%d %H:%M:%S\", time.localtime())"
   ]
  },
  {
   "cell_type": "code",
   "execution_count": null,
   "metadata": {},
   "outputs": [],
   "source": [
    "## or run shell manually\n",
    "$ bedtools getfasta -fi /home/wangjl/data/ref/hg19/hg19.fa -bed all.up0_down4.bed -s -fo all.4.fasta\n",
    "## Feature (chrM:16572-16576) beyond the length of chrM size (16571 bp).  Skipping.\n",
    "$ grep -v \">\" all.4.fasta > all.4.fa\n",
    "$ sed -n '{N;s/\\n/\\t/p}' all.4.fasta >all.4.fasta.oneLine\n",
    "## >chr10:157702-157706(-)\taaaa\n",
    "## >chr10:159173-159177(-)\tAAGG\n",
    "## >chr10:167929-167933(-)\taatt"
   ]
  },
  {
   "cell_type": "code",
   "execution_count": 157,
   "metadata": {
    "scrolled": true
   },
   "outputs": [
    {
     "name": "stdout",
     "output_type": "stream",
     "text": [
      "readFA() end; i=742286; fid=all; 耗时3.23s; 20190930-030811\n"
     ]
    }
   ],
   "source": [
    "##3. filter reads by following 4nt after PAS.\n",
    "import re,time\n",
    "\n",
    "# read fa file, get dict:  chr1:12:+  :  aatt\n",
    "def readFA(fid):\n",
    "    start=time.time();\n",
    "    fr=open('/home/wangjl/data/apa/190705PAS/bed/pas_bed/'+fid+'.4.fasta.oneLine','r')\n",
    "    #\n",
    "    i=0\n",
    "    pasBaseDB={}\n",
    "    for lineR in fr.readlines():\n",
    "        i+=1;\n",
    "        if i>10010:\n",
    "            #break;\n",
    "            pass;\n",
    "        line=lineR.strip()\n",
    "        arr=re.split('[>:()\\s]', line)\n",
    "        #print(arr)# ['', 'chr10', '157702-157706', '-', '', 'aaaa']\n",
    "        #\n",
    "        arr2=re.split('-',arr[2]);\n",
    "        #print(arr2) #['157702', '157706']\n",
    "        #\n",
    "        if arr[3]=='-':\n",
    "            pos=arr2[1]\n",
    "        else: #if arr[3]==\"+\":\n",
    "            pos= str(int(arr2[0])-1)\n",
    "        #\n",
    "        pas=':'.join( [arr[1], pos, arr[3]] )\n",
    "        #if i>10000:\n",
    "        #    print(arr, arr2, pas, arr[4])\n",
    "        #['', 'chr12', '69249636-69249640', '+', '', 'gcct'] ['69249636', '69249640'] chr12:69249635:+ \n",
    "        pasBaseDB[pas]=arr[-1];\n",
    "    fr.close()\n",
    "    info= 'readFA() end; i='+str(i)+'; fid='+fid+'; ';\n",
    "    timeString=time.strftime(\"%Y%m%d-%H%M%S\", time.localtime());\n",
    "    print(info+'耗时',round(time.time()-start,2),'s; ', timeString, sep='')\n",
    "    return pasBaseDB;\n",
    "#test\n",
    "fid='all'\n",
    "pasBaseDB1=readFA(fid)"
   ]
  },
  {
   "cell_type": "code",
   "execution_count": 166,
   "metadata": {},
   "outputs": [
    {
     "name": "stdout",
     "output_type": "stream",
     "text": [
      "['chrM', '16571', '16571', 'chrM:16571:+', '3483', '+']\n",
      "['chrM', '0', '0', 'chrM:0:-', '288', '-']\n",
      "添加注释 i=742288; a4=301528; pct=40.62%; 耗时2.31s; 20190930-033001\n"
     ]
    }
   ],
   "source": [
    "#step2 add annotation to 7th column in bed\n",
    "import re,time\n",
    "start=time.time();\n",
    "fr=open('/home/wangjl/data/apa/190705PAS/bed/pasPostions_siteAndIncludes_PY.bed','r')\n",
    "fw=open('/home/wangjl/data/apa/190705PAS/bed/pasPostions_siteAndIncludes_PY.Ebed','w')\n",
    "\n",
    "i=0\n",
    "a4=0;\n",
    "for lineR in fr.readlines():\n",
    "    i+=1;\n",
    "    if i>10:\n",
    "        #break;\n",
    "        pass;\n",
    "    line=lineR.strip();\n",
    "    arr=re.split('\\t', line)\n",
    "    #print(arr)# ['chr10', '157706', '157706', 'chr10:157706:-', '5', '-']\n",
    "    #\n",
    "    pas=arr[3]\n",
    "    base=\"AAAA\"\n",
    "    base2=base;\n",
    "    if pas in pasBaseDB1:\n",
    "        base=pasBaseDB1[pas]\n",
    "        base2=base.upper()\n",
    "    else:\n",
    "        print(arr)\n",
    "    arr.append(base)\n",
    "    arr.append(base2)\n",
    "    #\n",
    "    if arr[-1]==\"AAAA\":\n",
    "        a4+=1\n",
    "    #print(arr)\n",
    "    fw.write('\\t'.join(arr)+'\\n')\n",
    "fr.close()\n",
    "fw.close()\n",
    "#\n",
    "info=\"添加注释 i=\"+str(i)+'; a4='+str(a4)+'; pct='+ str(round(a4/i*100,2) )+'%';\n",
    "timeString=time.strftime(\"%Y%m%d-%H%M%S\", time.localtime());\n",
    "print(info+'; 耗时',round(time.time()-start,2),'s; ', timeString, sep='')"
   ]
  },
  {
   "cell_type": "code",
   "execution_count": null,
   "metadata": {},
   "outputs": [],
   "source": []
  },
  {
   "cell_type": "code",
   "execution_count": 113,
   "metadata": {},
   "outputs": [
    {
     "name": "stdout",
     "output_type": "stream",
     "text": [
      "Total PAS= 22721 \n",
      "Non genomic 4A PAS= 18511 ( 81.0 %)\n"
     ]
    }
   ],
   "source": [
    "##3. filter reads by following 4nt after PAS.\n",
    "fr1=open(fastaPath+\"all.gt5.freq\",'r')\n",
    "fr2=open(fastaPath+\"all.4.fa\",'r') # if 4A\n",
    "#\n",
    "fw1=open(fastaPath+\"all.gt5_with4A.freq\",'w') #descard\n",
    "fw2=open(fastaPath+\"all.gt5_no4A.freq\",'w') # should keep\n",
    "\n",
    "lines1=fr1.readlines()\n",
    "lines2=fr2.readlines()\n",
    "\n",
    "#\n",
    "n1=0;\n",
    "n2=0;\n",
    "for i in range(len(lines1)):\n",
    "    n1+=1;\n",
    "    if i>10:\n",
    "        #break;\n",
    "        pass;\n",
    "    if lines2[i].strip().upper() !=\"AAAA\":\n",
    "        n2+=1;\n",
    "        fw2.write(lines1[i]) # ok\n",
    "    else:\n",
    "        fw1.write(lines1[i])\n",
    "\n",
    "#\n",
    "fr1.close();fr2.close()\n",
    "fw1.close();fw2.close()\n",
    "print('Total PAS=', n1,'\\nNon genomic 4A PAS=',n2, \"(\",round(n2/n1,2)*100,\"%)\" )\n",
    "#Total PAS= 45904 \n",
    "#Non genomic 4A PAS= 32212 ( 70.0 %)"
   ]
  }
 ],
 "metadata": {
  "kernelspec": {
   "display_name": "Python 3",
   "language": "python",
   "name": "python3"
  },
  "language_info": {
   "codemirror_mode": {
    "name": "ipython",
    "version": 3
   },
   "file_extension": ".py",
   "mimetype": "text/x-python",
   "name": "python",
   "nbconvert_exporter": "python",
   "pygments_lexer": "ipython3",
   "version": "3.7.3"
  },
  "toc": {
   "base_numbering": 1,
   "nav_menu": {},
   "number_sections": true,
   "sideBar": true,
   "skip_h1_title": false,
   "title_cell": "Table of Contents",
   "title_sidebar": "Contents",
   "toc_cell": false,
   "toc_position": {},
   "toc_section_display": true,
   "toc_window_display": false
  }
 },
 "nbformat": 4,
 "nbformat_minor": 2
}
