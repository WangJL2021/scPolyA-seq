{
 "cells": [
  {
   "cell_type": "code",
   "execution_count": 1,
   "metadata": {},
   "outputs": [
    {
     "data": {
      "text/plain": [
       "'/data/jinwf/wangjl/apa/190705PAS'"
      ]
     },
     "execution_count": 1,
     "metadata": {},
     "output_type": "execute_result"
    }
   ],
   "source": [
    "#v2.0 batch mode: map parallel\n",
    "\n",
    "import os,re,time\n",
    "os.chdir(\"/home/wangjl/data/apa/190705PAS/\")\n",
    "os.getcwd()"
   ]
  },
  {
   "cell_type": "code",
   "execution_count": 4,
   "metadata": {},
   "outputs": [],
   "source": [
    "################################\n",
    "#part 2 define linux cmd in fn\n",
    "################################\n",
    "import subprocess\n",
    "\n",
    "#aim：task depend on id. If the function can run on one id, it can run on the batch of ids.\n",
    "#important: concat linux with id input, use absolute path.\n",
    "def doLinuxCMD(id):\n",
    "    #shell cmd\n",
    "    cmd=\"STAR --runThreadN 30  \\\n",
    "--outSAMtype BAM SortedByCoordinate  \\\n",
    "--genomeDir /home/wangjl/data/ref/hg19/index/star/  \\\n",
    "--genomeLoad LoadAndKeep  \\\n",
    "--limitBAMsortRAM 20000000000  \\\n",
    "--readFilesIn /home/wangjl/data/apa/190705PAS/polyA_fq/CutA_\"+id+\".10A.fq  \\\n",
    "--outFileNamePrefix  /home/wangjl/data/apa/190705PAS/hg19/CutA_\"+id+\"_\"\n",
    "    #exec shell cmd\n",
    "    (status, output)=subprocess.getstatusoutput(cmd)\n",
    "    #print(output) #check std ouput on screen\n",
    "    rs=str(status)+\"\\t\"+output;\n",
    "    return rs #return status, 0 normal, otherwise failed.\n",
    "#test\n",
    "doLinuxCMD('c01_ROW07')"
   ]
  },
  {
   "cell_type": "code",
   "execution_count": 5,
   "metadata": {},
   "outputs": [
    {
     "name": "stdout",
     "output_type": "stream",
     "text": [
      "==========>Begin of main process[16648][child pid by parent ppid]\n",
      "45 items processed in 71.24637746810913 seconds\n",
      "90 items processed in 133.25909996032715 seconds\n",
      "135 items processed in 195.94174337387085 seconds\n",
      "180 items processed in 262.8326585292816 seconds\n",
      "225 items processed in 323.6115794181824 seconds\n",
      "327.444433927536s <==========End of main process[16648]\n",
      "######################################## \n",
      "Log file: /data/jinwf/wangjl/apa/190705PAS/star_hg19_logs.txt20190712-042731\n"
     ]
    }
   ],
   "source": [
    "################################\n",
    "#part 3 exec\n",
    "################################\n",
    "import time,multiprocessing,os,re #random\n",
    "from multiprocessing import Queue\n",
    "from multiprocessing import Process\n",
    "\n",
    "#=====================\n",
    "#settings\n",
    "id_list=\"/home/wangjl/data/apa/190705PAS/255.cellID\"\n",
    "\n",
    "# default below\n",
    "core=13 # CPU core number to use\n",
    "hint_n=5 # progress bar number\n",
    "log_file_name='star_hg19_logs.txt' #uniq-count-FROM-star.final.207.log\n",
    "# output log file, content: #id  runStatus(0 normal, other not) \n",
    "#=====================\n",
    "## add time stamp to the log file name\n",
    "timsString=time.strftime(\"%Y%m%d-%H%M%S\", time.localtime()) \n",
    "log_file_name=log_file_name + timsString\n",
    "\n",
    "\n",
    "# read and process\n",
    "def worker(cb):\n",
    "    # time consuming work\n",
    "    rs=cb+\"\\t\"+str( doLinuxCMD(cb) ) #defined in part2\n",
    "    q.put(rs)\n",
    "\n",
    "# save process\n",
    "def writer(log_file_name,ID_total,hint_n=20):\n",
    "    breaks=int(ID_total/hint_n)\n",
    "    i=0\n",
    "    with open(log_file_name, 'w') as f:\n",
    "        while True:\n",
    "            i+=1\n",
    "            if i%breaks==0: \n",
    "                print(i,\" items processed in \", time.time()-start,\" seconds\",sep=\"\")\n",
    "            rs=q.get() #waite while q is empty\n",
    "            f.write(rs+\"\\n\") \n",
    "            f.flush()\n",
    "\n",
    "\n",
    "#start time\n",
    "start=time.time()\n",
    "print('='*10, \">Begin of main process[\", os.getpid(), \"][child pid by parent ppid]\", sep=\"\")\n",
    "\n",
    "\n",
    "if __name__ == '__main__': \n",
    "    q=Queue(core+10)\n",
    "    pool = multiprocessing.Pool(processes = core)\n",
    "\n",
    "    # put worker to pool.\n",
    "    fr=open(id_list,'r')\n",
    "    i=0\n",
    "    for lineR in fr.readlines():\n",
    "        i+=1\n",
    "        #if i>100:\n",
    "        #    pass;\n",
    "            #break; #debug\n",
    "\n",
    "        line=lineR.strip()\n",
    "        arr=re.split(' ',line) ##print(\"start new process\", line)\n",
    "        pool.apply_async( worker,args=(arr[0],) )\n",
    "    fr.close()\n",
    "\n",
    "    # dispatch task and writer()\n",
    "    pOut = Process(target=writer, args=(log_file_name,i,hint_n,)) # args：元组参数，如果参数就一个，记得加逗号’，’\n",
    "    pOut.start()\n",
    "\n",
    "    # wait for worker() done\n",
    "    pool.close()\n",
    "    pool.join()\n",
    "\n",
    "    #\n",
    "    while not q.empty():\n",
    "        time.sleep(1)\n",
    "    pOut.terminate();\n",
    "\n",
    "print(time.time()-start,'s <', '='*10, \"End of main process[\", os.getpid(),']', sep=\"\")\n",
    "print(\"#\"*40,\"\\nLog file: \"+ os.getcwd()+\"/\"+log_file_name)"
   ]
  }
 ],
 "metadata": {
  "kernelspec": {
   "display_name": "Python 3",
   "language": "python",
   "name": "python3"
  },
  "language_info": {
   "codemirror_mode": {
    "name": "ipython",
    "version": 3
   },
   "file_extension": ".py",
   "mimetype": "text/x-python",
   "name": "python",
   "nbconvert_exporter": "python",
   "pygments_lexer": "ipython3",
   "version": "3.7.3"
  },
  "toc": {
   "base_numbering": 1,
   "nav_menu": {},
   "number_sections": true,
   "sideBar": true,
   "skip_h1_title": false,
   "title_cell": "Table of Contents",
   "title_sidebar": "Contents",
   "toc_cell": false,
   "toc_position": {},
   "toc_section_display": true,
   "toc_window_display": false
  }
 },
 "nbformat": 4,
 "nbformat_minor": 2
}
