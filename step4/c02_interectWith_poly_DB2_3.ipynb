{
 "cells": [
  {
   "cell_type": "code",
   "execution_count": 1,
   "metadata": {},
   "outputs": [],
   "source": [
    "# interection with PolyA_DB2, PolyA_DB3\n",
    "import os\n",
    "os.getcwd()\n",
    "\n",
    "title=\"pas_v5\"\n",
    "\n",
    "basePath=\"/data/jinwf/wangjl/apa/190705PAS/bed/\";\n",
    "pdfPath=\"/home/wangjl/data/apa/191111Figure/f2/validation/\";\n",
    "span=10\n",
    "\n",
    "#db2\n",
    "fdb2=\"/home/wangjl/data/apa/190610APA/02_validate/polyAsite.hs.db2.hg19.txt\"\n",
    "#db3\n",
    "fdb3=\"/home/wangjl/data/apa/190610APA/02_validate/human.PAS.txt\""
   ]
  },
  {
   "cell_type": "markdown",
   "metadata": {},
   "source": [
    "# 1. read data"
   ]
  },
  {
   "cell_type": "code",
   "execution_count": 2,
   "metadata": {},
   "outputs": [
    {
     "name": "stdout",
     "output_type": "stream",
     "text": [
      "i= 20223 ; j= 20222\n"
     ]
    }
   ],
   "source": [
    "# read my polyA site\n",
    "import re\n",
    "def getPASSet(fpath, ncol=0,nheader=0):\n",
    "    fr=open(fpath,'r' )\n",
    "    DB={};\n",
    "    i=0\n",
    "    j=0\n",
    "    for lineR in fr.readlines():\n",
    "        i+=1\n",
    "        if i>10:\n",
    "            #break;\n",
    "            pass;\n",
    "        #no header\n",
    "        if nheader>(i-1):\n",
    "            continue;\n",
    "        \n",
    "        line=lineR.strip()\n",
    "        pas=re.split(\"[\\s\\t]\",line)[ncol]\n",
    "        arr=re.split(':',pas)\n",
    "        \n",
    "        chrStrand=arr[0]+':'+arr[2]\n",
    "        pos=int(arr[1])\n",
    "        \n",
    "        # save to set\n",
    "        if chrStrand not in DB:\n",
    "            DB[chrStrand]=[];\n",
    "        DB[chrStrand].append(pos) \n",
    "        j+=1\n",
    "    fr.close()\n",
    "    print(\"i=\",i, '; j=',j)\n",
    "    return DB;\n",
    "\n",
    "fpath1=\"/data/jinwf/wangjl/apa/190705PAS/bed/pasPostions_Location_transcriptName-noChrM_noInnerPrime_PY-filterCountCell.bed\"\n",
    "pasMe=getPASSet(fpath1, nheader=1)"
   ]
  },
  {
   "cell_type": "code",
   "execution_count": 25,
   "metadata": {},
   "outputs": [
    {
     "name": "stdout",
     "output_type": "stream",
     "text": [
      "i= 311595 ; j= 311594\n"
     ]
    }
   ],
   "source": [
    "# read DB3\n",
    "pasDB3=getPASSet(fdb3, ncol=0,nheader=1)"
   ]
  },
  {
   "cell_type": "code",
   "execution_count": 3,
   "metadata": {},
   "outputs": [
    {
     "name": "stdout",
     "output_type": "stream",
     "text": [
      "i= 54665 ; j= 54665\n"
     ]
    }
   ],
   "source": [
    "# read DB2\n",
    "import re\n",
    "def getPASSet2(fpath):\n",
    "    fr=open(fpath,'r' )\n",
    "    DB={};\n",
    "    i=0\n",
    "    j=0\n",
    "    for lineR in fr.readlines():\n",
    "        i+=1\n",
    "        if i>100:\n",
    "            #break;\n",
    "            pass;\n",
    "        \n",
    "        line=lineR.strip()\n",
    "        pas=re.split(\"\\t\",line)[0]\n",
    "        arr=re.split(':',pas)\n",
    "        \n",
    "        chrStrand=arr[0]#+':'+arr[2]\n",
    "        pos=int(arr[1])\n",
    "        # save to set\n",
    "        if chrStrand not in DB:\n",
    "            DB[chrStrand]=[];\n",
    "        DB[chrStrand].append(pos)\n",
    "        j+=1\n",
    "    fr.close()\n",
    "    print(\"i=\",i, '; j=',j)\n",
    "    return DB;\n",
    "\n",
    "pasDB2=getPASSet2(fdb2)"
   ]
  },
  {
   "cell_type": "markdown",
   "metadata": {},
   "source": [
    "# 2. get size of each db"
   ]
  },
  {
   "cell_type": "code",
   "execution_count": 4,
   "metadata": {},
   "outputs": [
    {
     "name": "stdout",
     "output_type": "stream",
     "text": [
      "20222\n",
      "54665\n"
     ]
    }
   ],
   "source": [
    "def getSize(db):\n",
    "    i=0;\n",
    "    for cs in db:\n",
    "        for p in db[cs]:\n",
    "            i+=1\n",
    "    print(i)\n",
    "    return i;\n",
    "#\n",
    "sizeMe=getSize(pasMe) #20222\n",
    "sizeDB2=getSize(pasDB2) #54665\n",
    "#sizeDB3=getSize(pasDB3) #311594"
   ]
  },
  {
   "cell_type": "markdown",
   "metadata": {},
   "source": [
    "# 3. ven plot with polyA_DB2，distance=12(use in plot) or 24"
   ]
  },
  {
   "cell_type": "code",
   "execution_count": 28,
   "metadata": {},
   "outputs": [],
   "source": [
    "span=12"
   ]
  },
  {
   "cell_type": "code",
   "execution_count": 11,
   "metadata": {},
   "outputs": [
    {
     "name": "stdout",
     "output_type": "stream",
     "text": [
      "i= 20222 ; j= 11681 0.58 %;  299.0 second(s) elapsed\n"
     ]
    },
    {
     "data": {
      "text/plain": [
       "(8541, 42984, 11681)"
      ]
     },
     "execution_count": 11,
     "metadata": {},
     "output_type": "execute_result"
    }
   ],
   "source": [
    "# with DB2\n",
    "import time\n",
    "def getInterDB2(span):\n",
    "    start=time.time()\n",
    "    i=0; #total\n",
    "    j=0; #interection\n",
    "    setNotIn=[]\n",
    "    \n",
    "    for chrStrand in pasMe: \n",
    "        for pos in pasMe[chrStrand]:\n",
    "            flag=False;\n",
    "            i+=1\n",
    "            if i>10:\n",
    "                #break;\n",
    "                pass;\n",
    "            if i%30000==0: #process bar\n",
    "                print('i=', i, '; j=',j,'; ', round(time.time()-start,2),'second(s) elapsed' )\n",
    "            \n",
    "            chrStrand2=re.split(':',chrStrand)[0]\n",
    "            \n",
    "            if chrStrand2 in pasDB2:\n",
    "                for pos2 in pasDB2[chrStrand2]:\n",
    "                    if abs(pos-pos2)<=span:\n",
    "                        j+=1;\n",
    "                        flag=True;\n",
    "                        break; # once find a close pos in DB, then noxt pos from pasMe\n",
    "                        \n",
    "            # record not in DB2\n",
    "            if(flag==False):\n",
    "                setNotIn.append( chrStrand+\":\"+str(pos) )\n",
    "                \n",
    "    #\n",
    "    print('i=', i, '; j=',j, round(j/i,2),'%; ', 100*round(time.time()-start,2),'second(s) elapsed'  )\n",
    "    # i= 20222 ; j= 11681 0.58 %;  284.0 second(s) elapsed\n",
    "    return (sizeMe-j,sizeDB2-j, j, setNotIn) # site number: me only, DB only, common\n",
    "rs2=getInterDB2(12) #(126946, 30985, 23680)\n",
    "rs2[0:3] #0.16 %;\n",
    "#(8541, 42984, 11681)"
   ]
  },
  {
   "cell_type": "code",
   "execution_count": 16,
   "metadata": {},
   "outputs": [
    {
     "name": "stdout",
     "output_type": "stream",
     "text": [
      "8541\n",
      "8541\n"
     ]
    }
   ],
   "source": [
    "print( len(rs2[3]) ) #8541\n",
    "\n",
    "fwNotInDB2=open('/data/jinwf/wangjl/apa/190705PAS/bed/NotInDB2.pasID', 'w')\n",
    "i=0\n",
    "for item in rs2[3]:\n",
    "    i+=1\n",
    "    if i>10:\n",
    "        #break;\n",
    "        pass;\n",
    "    arr=item.split(':')\n",
    "    arr2=arr[0]+\":\"+arr[2]+\":\"+arr[1]\n",
    "    fwNotInDB2.write(arr2+\"\\n\")\n",
    "fwNotInDB2.close()\n",
    "print(i)    "
   ]
  },
  {
   "cell_type": "code",
   "execution_count": null,
   "metadata": {},
   "outputs": [],
   "source": []
  },
  {
   "cell_type": "code",
   "execution_count": 30,
   "metadata": {},
   "outputs": [
    {
     "name": "stdout",
     "output_type": "stream",
     "text": [
      "i= 20222 ; j= 12924 0.64 %;  269.0 second(s) elapsed\n"
     ]
    },
    {
     "data": {
      "text/plain": [
       "(7298, 41741, 12924)"
      ]
     },
     "execution_count": 30,
     "metadata": {},
     "output_type": "execute_result"
    }
   ],
   "source": [
    "rs2_24=getInterDB2(24) #(122018, 26057, 28608)\n",
    "rs2_24"
   ]
  },
  {
   "cell_type": "code",
   "execution_count": 31,
   "metadata": {},
   "outputs": [],
   "source": [
    "# plot DB2\n",
    "from matplotlib import pyplot as plt\n",
    "from matplotlib_venn import venn2, venn2_circles\n",
    "plt.switch_backend('agg')"
   ]
  },
  {
   "cell_type": "code",
   "execution_count": 35,
   "metadata": {},
   "outputs": [
    {
     "data": {
      "image/png": "[encoded data removed]",
      "text/plain": [
       "<Figure size 432x288 with 1 Axes>"
      ]
     },
     "metadata": {},
     "output_type": "display_data"
    }
   ],
   "source": [
    "# within 12 nt as same site.\n",
    "#plt.figure(figsize=(6,6))\n",
    "venn2(subsets=rs2, set_labels=('scPolyA-Seq', 'PolyA_DB2'))\n",
    "plt.title(\"(225 cells)\"+title+\", span=\"+str(span)+\"nt\")\n",
    "\n",
    "plt.savefig('validation/Venn_with_polyA_DB2_'+title+'_span'+str(span)+'.png')"
   ]
  },
  {
   "cell_type": "markdown",
   "metadata": {},
   "source": [
    "# 4. ven plot with polyA_DB3，distance=12(use in plot) or 24"
   ]
  },
  {
   "cell_type": "code",
   "execution_count": 33,
   "metadata": {},
   "outputs": [
    {
     "name": "stdout",
     "output_type": "stream",
     "text": [
      "intersect with DB3, span= 12\n",
      "i= 20222 ; j= 14029 0.69 %;  692.0 second(s) elapsed\n"
     ]
    },
    {
     "data": {
      "text/plain": [
       "(6193, 297565, 14029)"
      ]
     },
     "execution_count": 33,
     "metadata": {},
     "output_type": "execute_result"
    }
   ],
   "source": [
    "# with DB3\n",
    "import time\n",
    "def getInterDB3(span):\n",
    "    print('intersect with DB3, span=',span)\n",
    "    start=time.time()\n",
    "    i=0; #total\n",
    "    j=0; #interection\n",
    "    for chrStrand in pasMe:       \n",
    "        for pos in pasMe[chrStrand]:\n",
    "            i+=1\n",
    "            if i>100:\n",
    "                #break;\n",
    "                pass;\n",
    "            if i%30000==0: #process bar\n",
    "                print('i=', i, '; j=',j,'; ', round(time.time()-start,2),'second(s) elapsed' )\n",
    "            \n",
    "            #chrStrand2=re.split(':',chrStrand)[0]\n",
    "            chrStrand2=chrStrand\n",
    "            \n",
    "            if chrStrand2 in pasDB3:\n",
    "                for pos2 in pasDB3[chrStrand2]:\n",
    "                    if abs(pos-pos2)<=span:\n",
    "                        j+=1;\n",
    "                        break; # once find a close pos in DB, then noxt pos from pasMe\n",
    "    #\n",
    "    print('i=', i, '; j=',j, round(j/i,2),'%; ', 100*round(time.time()-start,2),'second(s) elapsed'  )\n",
    "    return (sizeMe-j,sizeDB3-j, j ) # site number: me only, DB only, common\n",
    "rs3=getInterDB3(12) #(105503, 266471, 45123)\n",
    "rs3 #0.3 %"
   ]
  },
  {
   "cell_type": "code",
   "execution_count": 36,
   "metadata": {},
   "outputs": [
    {
     "data": {
      "image/png": "[encoded data removed]",
      "text/plain": [
       "<Figure size 432x288 with 1 Axes>"
      ]
     },
     "metadata": {},
     "output_type": "display_data"
    }
   ],
   "source": [
    "# within 12 nt as same site.\n",
    "#plt.figure(figsize=(6,6))\n",
    "venn2(subsets=rs3, set_labels=('scPolyA-Seq', 'PolyA_DB3'))\n",
    "plt.title(\"(225 cells)\"+title+\", span=\"+str(span)+\"nt\")\n",
    "\n",
    "plt.savefig('validation/Venn_with_polyA_DB3_'+title+'_span'+str(span)+'.png')"
   ]
  }
 ],
 "metadata": {
  "kernelspec": {
   "display_name": "Python 3",
   "language": "python",
   "name": "python3"
  },
  "language_info": {
   "codemirror_mode": {
    "name": "ipython",
    "version": 3
   },
   "file_extension": ".py",
   "mimetype": "text/x-python",
   "name": "python",
   "nbconvert_exporter": "python",
   "pygments_lexer": "ipython3",
   "version": "3.7.3"
  },
  "toc": {
   "base_numbering": 1,
   "nav_menu": {},
   "number_sections": true,
   "sideBar": true,
   "skip_h1_title": false,
   "title_cell": "Table of Contents",
   "title_sidebar": "Contents",
   "toc_cell": false,
   "toc_position": {},
   "toc_section_display": true,
   "toc_window_display": false
  }
 },
 "nbformat": 4,
 "nbformat_minor": 2
}
