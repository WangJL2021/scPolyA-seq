{
 "cells": [
  {
   "cell_type": "code",
   "execution_count": 13,
   "metadata": {},
   "outputs": [
    {
     "data": {
      "text/plain": [
       "'/data/jinwf/wangjl/apa/190705PAS/script'"
      ]
     },
     "execution_count": 13,
     "metadata": {},
     "output_type": "execute_result"
    }
   ],
   "source": [
    "import os\n",
    "os.getcwd()"
   ]
  },
  {
   "cell_type": "code",
   "execution_count": 30,
   "metadata": {},
   "outputs": [
    {
     "name": "stdout",
     "output_type": "stream",
     "text": [
      "==end==\n"
     ]
    }
   ],
   "source": [
    "#pas to bed:polyA_DB2\n",
    "import re\n",
    "# \n",
    "pasFile=\"/home/wangjl/data/apa/190610APA/02_validate/polyAsite.hs.db2.hg19.txt\"\n",
    "fr=open(pasFile, 'r')\n",
    "fw=open(\"/home/wangjl/data/apa/190610APA/02_validate/human.PolyADB2.bed\", 'w')\n",
    "\n",
    "\n",
    "i=0\n",
    "for lineR in fr.readlines():\n",
    "    i+=1;\n",
    "    line=lineR.strip()\n",
    "    if i==1:\n",
    "        continue;\n",
    "    if i>3: #30000-\n",
    "        pass;\n",
    "        #break;\n",
    "    #print(i, line) #2 chr17:74002078\n",
    "    arr=re.split(\":\", line)\n",
    "    #print(i, arr) #['chr17:74002078']\n",
    "    arr2=[arr[0], arr[1], arr[1], line, '0', '+']\n",
    "    #save to files\n",
    "    fw.write('\\t'.join(arr2)+'\\n')\n",
    "fr.close()\n",
    "fw.close()\n",
    "print(\"==end==\")"
   ]
  },
  {
   "cell_type": "code",
   "execution_count": 20,
   "metadata": {},
   "outputs": [
    {
     "name": "stdout",
     "output_type": "stream",
     "text": [
      "==end==\n"
     ]
    }
   ],
   "source": [
    "#pas to bed:polyA_DB3\n",
    "import re\n",
    "# \n",
    "pasFile=\"/home/wangjl/data/apa/190610APA/02_validate/human.PAS.txt\"\n",
    "fr=open(pasFile, 'r')\n",
    "fw=open(\"/home/wangjl/data/apa/190610APA/02_validate/human.PolyADB3.bed\", 'w')\n",
    "\n",
    "\n",
    "i=0\n",
    "for lineR in fr.readlines():\n",
    "    i+=1;\n",
    "    line=lineR.strip()\n",
    "    if i==1:\n",
    "        continue;\n",
    "    if i>3: #30000-\n",
    "        pass;\n",
    "        #break;\n",
    "    #print(i, line)\n",
    "    #1 PAS_ID\tChromosome\tPosition\tStrand\tMean RPM\n",
    "    #2 chr1:564599:+\tchr1\t564599\t+\t3.33339746426\n",
    "    arr=re.split(\"\\t\", line)\n",
    "    #print(i, arr) #2 ['chr1:564599:+', 'chr1', '564599', '+', '3.33339746426',\n",
    "    if arr[3]==\"+\":\n",
    "        #pass\n",
    "        arr2=[arr[1], arr[2],arr[2], arr[0],arr[4],arr[3]]\n",
    "    else:\n",
    "        arr2=[arr[1], arr[2],arr[2], arr[0],arr[4],arr[3]]\n",
    "    #save to files\n",
    "    fw.write('\\t'.join(arr2)+'\\n')\n",
    "fr.close()\n",
    "fw.close()\n",
    "print(\"==end==\")"
   ]
  },
  {
   "cell_type": "code",
   "execution_count": 36,
   "metadata": {},
   "outputs": [
    {
     "name": "stdout",
     "output_type": "stream",
     "text": [
      "getBedFromPas() end; fid=pasPosition_no4A; i=440760; 耗时0.74s; 20191003-154112\n"
     ]
    }
   ],
   "source": [
    "# pas to bed\n",
    "#chr10:157706:-\n",
    "#chr10:174098:-\n",
    "#chr8:123959504:+\n",
    "import re, time\n",
    "\n",
    "\n",
    "def getBedFromPas(fid):\n",
    "    start=time.time();\n",
    "    fr=open('/home/wangjl/data/apa/190705PAS/bed/'+fid+'.txt','r') #\n",
    "    fw=open('/home/wangjl/data/apa/190705PAS/bed/'+fid+'.bed','w') #\n",
    "\n",
    "    #\n",
    "    i=0\n",
    "    for lineR in fr.readlines():\n",
    "        i+=1;\n",
    "        if i>10:\n",
    "            #break;\n",
    "            pass;\n",
    "        line=lineR.strip();\n",
    "        arr=re.split(':',line)\n",
    "        #print(arr) #['chr10', '159177', '-']\n",
    "        str1='\\t'.join([arr[0], arr[1], arr[1], line, '0', arr[2] ])\n",
    "        #print(str1)\n",
    "        fw.write(str1+'\\n')\n",
    "\n",
    "    fr.close()\n",
    "    #print('==end, i=',i)\n",
    "    info=\"getBedFromPas() end; fid=\"+fid+'; i='+str(i);\n",
    "    timeString=time.strftime(\"%Y%m%d-%H%M%S\", time.localtime());\n",
    "    print(info+'; 耗时',round(time.time()-start,2),'s; ', timeString, sep='')\n",
    "#\n",
    "fid='pasPosition_no4A'\n",
    "getBedFromPas(fid);"
   ]
  },
  {
   "cell_type": "code",
   "execution_count": 37,
   "metadata": {},
   "outputs": [
    {
     "name": "stdout",
     "output_type": "stream",
     "text": [
      "getBedFromPas() end; fid=pasPosition_with4A; i=301528; 耗时0.6s; 20191003-154133\n"
     ]
    }
   ],
   "source": [
    "fid='pasPosition_with4A'\n",
    "getBedFromPas(fid);"
   ]
  }
 ],
 "metadata": {
  "kernelspec": {
   "display_name": "Python 3",
   "language": "python",
   "name": "python3"
  },
  "language_info": {
   "codemirror_mode": {
    "name": "ipython",
    "version": 3
   },
   "file_extension": ".py",
   "mimetype": "text/x-python",
   "name": "python",
   "nbconvert_exporter": "python",
   "pygments_lexer": "ipython3",
   "version": "3.7.3"
  }
 },
 "nbformat": 4,
 "nbformat_minor": 2
}
