{
 "cells": [
  {
   "cell_type": "code",
   "execution_count": 1,
   "metadata": {},
   "outputs": [
    {
     "name": "stdout",
     "output_type": "stream",
     "text": [
      "74097 0.37 seconds elapsed.\n",
      "148194 0.6 seconds elapsed.\n",
      "222291 0.82 seconds elapsed.\n",
      "296388 1.04 seconds elapsed.\n",
      "370485 1.26 seconds elapsed.\n",
      "444582 1.51 seconds elapsed.\n",
      "518679 1.73 seconds elapsed.\n",
      "592776 1.95 seconds elapsed.\n",
      "666873 2.17 seconds elapsed.\n",
      "740970 2.39 seconds elapsed.\n",
      "==end== 1587104867.6078093 740973\n"
     ]
    }
   ],
   "source": [
    "#1. position to bed\n",
    "#2. bed to sequence, shell\n",
    "\n",
    "#step1 # get XX nt sequence up and down, and find motif\n",
    "def getBedFromPosDown(inputFile,outputFile):\n",
    "    import re, time\n",
    "    fr=open(inputFile,'r')\n",
    "    fw=open(outputFile,'w')\n",
    "\n",
    "    up=0;\n",
    "    down=20\n",
    "\n",
    "    i=0\n",
    "    begin=time.time()\n",
    "    lines=fr.readlines()\n",
    "    for lineR in lines:\n",
    "        i+=1\n",
    "        if i>10050:\n",
    "            #break;\n",
    "            pass\n",
    "        #bar\n",
    "        if i% round(len(lines)/10)==0:\n",
    "            print(i, round(time.time()-begin,2),\"seconds elapsed.\")\n",
    "        #\n",
    "        line=lineR.strip()\n",
    "        arr=re.split('\\t', line)\n",
    "        #print(i, arr) #['chr10', '319556', '319556', 'chr10:319556:-', '6', '-', 'extended3UTR', 'DIP2C-201']\n",
    "\n",
    "        arr2=arr[0:6].copy()\n",
    "        if arr2[5]==\"+\":\n",
    "            pos=int(arr[1]) ##+ should minus 1! cause bam to bed plus 1\n",
    "            start=pos-up;\n",
    "            end=pos+down+1;\n",
    "        else:\n",
    "            pos=int(arr[1]) \n",
    "            start=pos-down-1; \n",
    "            end=pos+up\n",
    "        ##fix\n",
    "        if start<=0:\n",
    "            print(line);\n",
    "            #fwE.write(lineR);\n",
    "            continue;\n",
    "\n",
    "        arr2[1]=str(start)\n",
    "        arr2[2]=str(end)\n",
    "\n",
    "        #if arr2[5]==\"+\":\n",
    "        #    print(i, line,'\\n\\t', arr2)\n",
    "        fw.write('\\t'.join(arr2)+'\\n')\n",
    "\n",
    "    fr.close()\n",
    "    fw.close()\n",
    "    print('==end==', time.time(), i)\n",
    "#\n",
    "\n",
    "inFile='/data/jinwf/wangjl/apa/190705PAS/bed/pasPostions_Location_transcriptName-noChrM_PY.bed'\n",
    "outFile='/home/wangjl/data/apa/191111Figure/f2/DB3/pasPostions_Location.bed'\n",
    "getBedFromPosDown(inFile,outFile)\n"
   ]
  },
  {
   "cell_type": "code",
   "execution_count": null,
   "metadata": {},
   "outputs": [],
   "source": [
    "#step2 get fasta from bed\n",
    "\n",
    "# shell \n",
    "#$ bedtools getfasta -fi /home/wangjl/data/ref/hg19/hg19.fa -bed /home/wangjl/data/apa/191111Figure/f2/DB3/pasPostions_Location.bed -s -fo /home/wangjl/data/apa/191111Figure/f2/DB3/pasPostions_Location_20.fasta\n",
    "\n",
    "# 2row into 1 row\n",
    "#$ grep -v \">\" /home/wangjl/data/apa/191111Figure/f2/DB3/pasPostions_Location_20.fasta > /home/wangjl/data/apa/191111Figure/f2/DB3/pasPostions_Location_20.fa\n",
    "\n"
   ]
  },
  {
   "cell_type": "code",
   "execution_count": 2,
   "metadata": {},
   "outputs": [
    {
     "data": {
      "text/plain": [
       "18"
      ]
     },
     "execution_count": 2,
     "metadata": {},
     "output_type": "execute_result"
    }
   ],
   "source": [
    "#3.0 get A numbers from a string.\n",
    "\n",
    "def getAnumber(s):\n",
    "    #len(s)\n",
    "    count=0\n",
    "    for i in range(20):\n",
    "        if s[i]=='A':\n",
    "            count+=1\n",
    "    return count;\n",
    "#\n",
    "s1='AAAAAAAAAAAAAAAAAATCA'\n",
    "getAnumber(s1)"
   ]
  },
  {
   "cell_type": "code",
   "execution_count": 3,
   "metadata": {},
   "outputs": [
    {
     "name": "stdout",
     "output_type": "stream",
     "text": [
      "len= 740973 740973\n",
      "==end== i= 740972\n"
     ]
    }
   ],
   "source": [
    "# step3 add isInnerPrime\n",
    "import re,time\n",
    "\n",
    "fr0=open('/home/wangjl/data/apa/191111Figure/f2/DB3/pasPostions_Location_20.fa', 'r')\n",
    "fr=open('/data/jinwf/wangjl/apa/190705PAS/bed/pasPostions_Location_transcriptName-noChrM_PY.bed', 'r')\n",
    "fw=open('/data/jinwf/wangjl/apa/190705PAS/bed/pasPostions_Location_transcriptName-noChrM_PY_isInnerPrime.bed','w')\n",
    "\n",
    "arrFa=fr0.readlines()\n",
    "arrBed=fr.readlines();\n",
    "\n",
    "print('len=', len(arrFa), len(arrBed))\n",
    "\n",
    "for i in range(len(arrFa)):\n",
    "    lineR=arrBed[i];\n",
    "    fasta=arrFa[i].upper().strip()\n",
    "    #\n",
    "    if i>10:\n",
    "        #break\n",
    "        pass\n",
    "    line=lineR.strip()\n",
    "    arr=re.split('\\t', line)\n",
    "    #\n",
    "    # isInnerPrime or not?\n",
    "    isInnerPrime=0;\n",
    "    if fasta.startswith('AAAAAA'):\n",
    "        isInnerPrime=1;\n",
    "    elif getAnumber(fasta)>=15:\n",
    "        isInnerPrime=2;\n",
    "    #\n",
    "    arr.append(fasta)\n",
    "    arr.append( str(isInnerPrime) )\n",
    "    #print(i, '\\t'.join(arr)+'\\n' ) #['chr10', '319556', '319556', 'chr10:319556:-', '6', '-', 'extended3UTR', 'DIP2C-201']\n",
    "    #\n",
    "    fw.write('\\t'.join(arr)+'\\n' )\n",
    "    \n",
    "    #\n",
    "##\n",
    "fr0.close()\n",
    "fr.close()\n",
    "fw.close()\n",
    "\n",
    "print('==end== i=',i)"
   ]
  }
 ],
 "metadata": {
  "kernelspec": {
   "display_name": "Python 3",
   "language": "python",
   "name": "python3"
  },
  "language_info": {
   "codemirror_mode": {
    "name": "ipython",
    "version": 3
   },
   "file_extension": ".py",
   "mimetype": "text/x-python",
   "name": "python",
   "nbconvert_exporter": "python",
   "pygments_lexer": "ipython3",
   "version": "3.7.3"
  },
  "toc": {
   "base_numbering": 1,
   "nav_menu": {},
   "number_sections": true,
   "sideBar": true,
   "skip_h1_title": false,
   "title_cell": "Table of Contents",
   "title_sidebar": "Contents",
   "toc_cell": false,
   "toc_position": {},
   "toc_section_display": true,
   "toc_window_display": false
  }
 },
 "nbformat": 4,
 "nbformat_minor": 2
}
